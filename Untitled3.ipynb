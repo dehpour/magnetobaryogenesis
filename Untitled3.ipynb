{
  "nbformat": 4,
  "nbformat_minor": 0,
  "metadata": {
    "colab": {
      "provenance": [],
      "collapsed_sections": [],
      "authorship_tag": "ABX9TyMUIbGuWXbaQqoZQZg3q8q0",
      "include_colab_link": true
    },
    "kernelspec": {
      "name": "python3",
      "display_name": "Python 3"
    },
    "language_info": {
      "name": "python"
    }
  },
  "cells": [
    {
      "cell_type": "markdown",
      "metadata": {
        "id": "view-in-github",
        "colab_type": "text"
      },
      "source": [
        "<a href=\"https://colab.research.google.com/github/dehpour/magnetobaryogenesis/blob/main/Untitled3.ipynb\" target=\"_parent\"><img src=\"https://colab.research.google.com/assets/colab-badge.svg\" alt=\"Open In Colab\"/></a>"
      ]
    },
    {
      "cell_type": "code",
      "execution_count": null,
      "metadata": {
        "colab": {
          "base_uri": "https://localhost:8080/"
        },
        "id": "ktMQ-kOhRO9E",
        "outputId": "e66745bd-c2f3-454e-b005-7c1b3e2d33c0"
      },
      "outputs": [
        {
          "output_type": "stream",
          "name": "stdout",
          "text": [
            "0.9501526355743408\n"
          ]
        }
      ],
      "source": [
        "from scipy.integrate import solve_ivp\n",
        "import matplotlib.pyplot as plt\n",
        "import numpy as np\n",
        "import time\n",
        "\n",
        "def fun(x, y):\n",
        "    \n",
        "    Ba1, Ba2, Ba3, Bb1, Bb2, Bb3, Bz, Va1, Va2, Va3, Vb1, Vb2, Vb3, Vz, Eta = y\n",
        "    \n",
        "    dBa1 = (alpha1*356*1e13*(x**-0.5)*(Vb1*Bz - Bb1*Vz) - (alpha1**2)*356*1e11*(x**-0.5)*Ba1 + \n",
        "            (alpha1**2)*3.64058638*1e39*(x**-1.5)*(Eta**2)*Va1 + \n",
        "            alpha1*4.70369037*1e13*(x**-0.5)*Eta*Ba1 - Ba1/x)\n",
        "    \n",
        "    dBa2 = (alpha2*356*1e13*(x**-0.5)*(Vb2*Bz - Bb2*Vz) - (alpha2**2)*356*1e11*(x**-0.5)*Ba2 + \n",
        "            (alpha2**2)*3.64058638*1e39*(x**-1.5)*(Eta**2)*Va2 + \n",
        "            alpha2*4.70369037*1e13*(x**-0.5)*Eta*Ba2 - Ba2/x)\n",
        "    dBa3 = (alpha3*356*1e13*(x**-0.5)*(Vb3*Bz - Bb3*Vz) - (alpha3**2)*356*1e11*(x**-0.5)*Ba3 + \n",
        "            (alpha3**2)*3.64058638*1e39*(x**-1.5)*(Eta**2)*Va3 + \n",
        "            alpha3*4.70369037*1e13*(x**-0.5)*Eta*Ba3 - Ba3/x)\n",
        "    \n",
        "    dBb1 = (alpha1*356*1e13*(x**-0.5)*(Vz*Ba1 - Bz*Va1) - (alpha1**2)*356*1e11*(x**-0.5)*Bb1 + \n",
        "            (alpha1**2)*3.64058638*1e39*(x**-1.5)*(Eta**2)*Vb1 + \n",
        "            alpha1*4.70369037*1e13*(x**-0.5)*Eta*Bb1 - Bb1/x)\n",
        "    dBb2 = (alpha2*356*1e13*(x**-0.5)*(Vz*Ba2 - Bz*Va2) - (alpha2**2)*356*1e11*(x**-0.5)*Bb2 + \n",
        "            (alpha2**2)*3.64058638*1e39*(x**-1.5)*(Eta**2)*Vb2 + \n",
        "            alpha2*4.70369037*1e13*(x**-0.5)*Eta*Bb2 - Bb2/x)\n",
        "    dBb3 = (alpha3*356*1e13*(x**-0.5)*(Vz*Ba3 - Bz*Va3) - (alpha3**2)*356*1e11*(x**-0.5)*Bb3 + \n",
        "            (alpha3**2)*3.64058638*1e39*(x**-1.5)*(Eta**2)*Vb3 + \n",
        "            alpha3*4.70369037*1e13*(x**-0.5)*Eta*Bb3 - Bb3/x)\n",
        "    \n",
        "    dBz = -Bz/x\n",
        "    \n",
        "    dVa1 = alpha1*30.4*1e-35*(x**1.5)*Bb1*Bz - (alpha1**2)*71.2*1e17*(x**-0.5)*Va1\n",
        "    dVa2 = alpha2*30.4*1e-35*(x**1.5)*Bb2*Bz - (alpha2**2)*71.2*1e17*(x**-0.5)*Va2\n",
        "    dVa3 = alpha3*30.4*1e-35*(x**1.5)*Bb3*Bz - (alpha3**2)*71.2*1e17*(x**-0.5)*Va3\n",
        "    \n",
        "    dVb1 = -alpha1*30.4*1e-35*(x**1.5)*Ba1*Bz - (alpha1**2)*71.2*1e17*(x**-0.5)*Vb1\n",
        "    dVb2 = -alpha2*30.4*1e-35*(x**1.5)*Ba2*Bz - (alpha2**2)*71.2*1e17*(x**-0.5)*Vb2\n",
        "    dVb3 = -alpha3*30.4*1e-35*(x**1.5)*Ba3*Bz - (alpha3**2)*71.2*1e17*(x**-0.5)*Vb3\n",
        "    \n",
        "    dVz = 0\n",
        "    \n",
        "    dEta = (-1.28*1e-38*(x**1.5)*Eta*(Ba1**2+Ba2**2+Ba3**2+Bb1**2+Bb2**2+Bb3**2+Bz**2) + \n",
        "           alpha1*9.68538584*1e-39*(x**1.5)*(Ba1**2+Bb1**2) + \n",
        "           alpha2*9.68538584*1e-39*(x**1.5)*(Ba2**2+Bb2**2) + \n",
        "           alpha3*9.68538584*1e-39*(x**1.5)*(Ba3**2+Bb3**2) -\n",
        "           alpha1*9.91*1e-13*(x**0.5)*(Eta**2)*(Va1*Ba1 + Vb1*Bb1) - \n",
        "           alpha2*9.91*1e-13*(x**0.5)*(Eta**2)*(Va2*Ba2 + Vb2*Bb2) - \n",
        "           alpha3*9.91*1e-13*(x**0.5)*(Eta**2)*(Va3*Ba3 + Vb3*Bb3) + \n",
        "           179.1*((1-x)/(x**0.5))*Eta)\n",
        "    \n",
        "    return dBa1, dBa2, dBa3, dBb1, dBb2, dBb3, dBz, dVa1, dVa2, dVa3, dVb1, dVb2, dVb3, dVz, dEta\n",
        "\n",
        "alpha1 = 1e-7\n",
        "alpha2 = 5e-7\n",
        "alpha3 = 1e-6\n",
        "\n",
        "y0 = [0, 0, 0, 0, 0, 0, 1e19, 1e-2, 1e-2, 1e-2, 1e-2, 1e-2, 1e-2, 0, 0]\n",
        "# y0 = [0, 0, 0, 0, 0, 0, 1e19, 1e-2, 1e-2, 0, 1e-2, 1e-2, 0, 0, 0]\n",
        "\n",
        "x_span = [1e-4, 1]\n",
        "\n",
        "\n",
        "time1 = time.time()\n",
        "sol = solve_ivp(fun=fun, t_span=x_span, y0=y0, method='LSODA',rtol=5e-10,atol=1e-40)\n",
        "#,rtol=5e-13,atol=1e-40\n",
        "time2 = time.time()\n",
        "print(time2-time1)\n",
        "\n",
        "Nstep = 1000\n",
        "Ntot = len(sol.t)\n",
        "Nout = len(sol.y)\n",
        "\n",
        "#sol"
      ]
    },
    {
      "cell_type": "code",
      "source": [
        "plt.plot(sol.t, abs(sol.y[0]),label='abs of Va1')\n",
        "#plt.plot(sol.t, abs(sol.y[4]),label='absolute value of Bb1')\n",
        "#plt.plot(sol.t, sol.y[14])\n",
        "plt.legend()\n",
        "plt.xscale('log')\n",
        "#plt.yscale('log')\n",
        "plt.show()"
      ],
      "metadata": {
        "id": "CpRis6t8j6hy",
        "outputId": "a8257b66-f7d1-4594-8f8a-6bf9c09e3876",
        "colab": {
          "base_uri": "https://localhost:8080/",
          "height": 280
        }
      },
      "execution_count": null,
      "outputs": [
        {
          "output_type": "display_data",
          "data": {
            "text/plain": [
              "<Figure size 432x288 with 1 Axes>"
            ],
            "image/png": "[encoded data removed]"
          },
          "metadata": {
            "needs_background": "light"
          }
        }
      ]
    },
    {
      "cell_type": "code",
      "source": [
        "plt.plot(sol.t, abs(sol.y[7]),label='abs of Va1')\n",
        "#plt.plot(sol.t, abs(sol.y[4]),label='absolute value of Bb1')\n",
        "#plt.plot(sol.t, sol.y[14])\n",
        "plt.legend()\n",
        "plt.xscale('log')\n",
        "plt.yscale('log')\n",
        "plt.show()"
      ],
      "metadata": {
        "colab": {
          "base_uri": "https://localhost:8080/",
          "height": 269
        },
        "id": "dDSuHzKpW6ti",
        "outputId": "4728332f-311b-4c2c-835f-e85376b273aa"
      },
      "execution_count": null,
      "outputs": [
        {
          "output_type": "display_data",
          "data": {
            "text/plain": [
              "<Figure size 432x288 with 1 Axes>"
            ],
            "image/png": "[encoded data removed]"
          },
          "metadata": {
            "needs_background": "light"
          }
        }
      ]
    },
    {
      "cell_type": "code",
      "source": [
        "plt.plot(sol.t, sol.y[0],label='Ba1')\n",
        "plt.plot(sol.t, abs(sol.y[3]),label='absolute value of Bb1')\n",
        "#plt.plot(sol.t, sol.y[14])\n",
        "plt.legend()\n",
        "plt.xscale('log')\n",
        "plt.yscale('log')\n",
        "plt.show()"
      ],
      "metadata": {
        "colab": {
          "base_uri": "https://localhost:8080/",
          "height": 269
        },
        "id": "2MI6RZCWUO1m",
        "outputId": "f85cb03f-7d12-4d60-d8e7-ec899c7f8c84"
      },
      "execution_count": null,
      "outputs": [
        {
          "output_type": "display_data",
          "data": {
            "text/plain": [
              "<Figure size 432x288 with 1 Axes>"
            ],
            "image/png": "[encoded data removed]"
          },
          "metadata": {
            "needs_background": "light"
          }
        }
      ]
    },
    {
      "cell_type": "code",
      "source": [
        "plt.plot(sol.t, sol.y[14])\n",
        "plt.legend()\n",
        "plt.xscale('log')\n",
        "plt.yscale('log')\n",
        "plt.show()"
      ],
      "metadata": {
        "colab": {
          "base_uri": "https://localhost:8080/",
          "height": 286
        },
        "id": "yb3OBH9WS-Sl",
        "outputId": "054d7e69-c699-4150-cb08-83bb80bcd9ad"
      },
      "execution_count": null,
      "outputs": [
        {
          "output_type": "stream",
          "name": "stderr",
          "text": [
            "WARNING:matplotlib.legend:No handles with labels found to put in legend.\n"
          ]
        },
        {
          "output_type": "display_data",
          "data": {
            "text/plain": [
              "<Figure size 432x288 with 1 Axes>"
            ],
            "image/png": "[encoded data removed]"
          },
          "metadata": {
            "needs_background": "light"
          }
        }
      ]
    },
    {
      "cell_type": "code",
      "source": [],
      "metadata": {
        "id": "Au5JfekPXyTW"
      },
      "execution_count": null,
      "outputs": []
    }
  ]
}