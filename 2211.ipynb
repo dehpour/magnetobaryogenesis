{
  "nbformat": 4,
  "nbformat_minor": 0,
  "metadata": {
    "colab": {
      "provenance": [],
      "collapsed_sections": [],
      "authorship_tag": "ABX9TyOMnV9YeYqbQQyEVYmo0Zxa",
      "include_colab_link": true
    },
    "kernelspec": {
      "name": "python3",
      "display_name": "Python 3"
    },
    "language_info": {
      "name": "python"
    }
  },
  "cells": [
    {
      "cell_type": "markdown",
      "metadata": {
        "id": "view-in-github",
        "colab_type": "text"
      },
      "source": [
        "<a href=\"https://colab.research.google.com/github/dehpour/magnetobaryogenesis/blob/main/2211.ipynb\" target=\"_parent\"><img src=\"https://colab.research.google.com/assets/colab-badge.svg\" alt=\"Open In Colab\"/></a>"
      ]
    },
    {
      "cell_type": "code",
      "execution_count": 3,
      "metadata": {
        "colab": {
          "base_uri": "https://localhost:8080/"
        },
        "id": "h50g9G26YKi5",
        "outputId": "2c089f16-8848-4ac7-eca2-e71619e6fe56"
      },
      "outputs": [
        {
          "output_type": "execute_result",
          "data": {
            "text/plain": [
              "  message: 'Unexpected istate in LSODA.'\n",
              "     nfev: 72225\n",
              "     njev: 1954\n",
              "      nlu: 1954\n",
              "      sol: None\n",
              "   status: -1\n",
              "  success: False\n",
              "        t: array([0.0001    , 0.0001    , 0.0001    , ..., 0.00086426, 0.00086426,\n",
              "       0.00086426])\n",
              " t_events: None\n",
              "        y: array([[ 1.00000000e+19,  1.00000000e+19,  1.00000000e+19, ...,\n",
              "         1.15705897e+18,  1.15705894e+18,  1.15705891e+18],\n",
              "       [ 0.00000000e+00,  1.41421356e-34,  2.82842712e-34, ...,\n",
              "         2.79052546e+42,  2.79276265e+42,  2.79500163e+42],\n",
              "       [ 0.00000000e+00,  0.00000000e+00,  0.00000000e+00, ...,\n",
              "         0.00000000e+00,  0.00000000e+00,  0.00000000e+00],\n",
              "       ...,\n",
              "       [ 1.00000000e-02,  1.00000000e-02,  1.00000000e-02, ...,\n",
              "        -1.62841097e+17, -1.62971652e+17, -1.63102311e+17],\n",
              "       [ 0.00000000e+00,  0.00000000e+00,  0.00000000e+00, ...,\n",
              "         0.00000000e+00,  0.00000000e+00,  0.00000000e+00],\n",
              "       [ 0.00000000e+00,  0.00000000e+00,  0.00000000e+00, ...,\n",
              "         0.00000000e+00,  0.00000000e+00,  0.00000000e+00]])\n",
              " y_events: None"
            ]
          },
          "metadata": {},
          "execution_count": 3
        }
      ],
      "source": [
        "import numpy as np\n",
        "import scipy.integrate as inte \n",
        "\n",
        "#va = sorate dar emtedad a\n",
        "#vb = sorate dar emtedad b\n",
        "#Bz = meydan magnetic dar emtedad z\n",
        "#Ba = meydan dar emtedad a\n",
        "#Bb = medyan dar emtedad b\n",
        "#x = t/t_ew\n",
        "#yR = assymetry lepton right\n",
        "#yB = assymetry baryoun (yani hame quarks)\n",
        "def S2(x,u):\n",
        "    Bz,Ba1,Ba2,Ba3,Bb1,Bb2,Bb3,yR,vz,va1,va2,va3,vb1,vb2,vb3=u\n",
        "    #table 1\n",
        "    alpha1=10**-7\n",
        "    alpha2=5*10**-7\n",
        "    alpha3=10**-6\n",
        "    Gam0 = 121\n",
        "\n",
        "    dyR = -(4.095017*10**-37)*x**(3/2)*yR*(Ba1**2+Ba2**2+Ba3**2+Bb1**2+Bb2**2+Bb3**2+Bz**2) \\\n",
        "          +(alpha1*968538584*10**-39)*x**(3/2)*(Ba1**2+Bb1**2) \\\n",
        "          +(alpha2*968538584*10**-39)*x**(3/2)*(Ba2**2+Bb2**2) \\\n",
        "          +(alpha3*968538584*10**-39)*x**(3/2)*(Ba3**2+Bb3**2) \\\n",
        "          -(alpha1*990462745*10**-21)*x**(1/2)*yR**2*(va1*Ba1+vb1*Bb1) \\\n",
        "          -(alpha2*990462745*10**-21)*x**(1/2)*yR**2*(va2*Ba2+vb2*Bb2) \\\n",
        "          -(alpha3*990462745*10**-21)*x**(1/2)*yR**2*(va3*Ba3+vb3*Bb3) \\\n",
        "          +Gam0*((1-x)/np.sqrt(x))*(147817048*10**-8)*yR\n",
        "\n",
        "    dBz = -Bz/x\n",
        "\n",
        "    dBa1 = (alpha1*356*10**13)*x**(-1/2)*(vb1*Bz-Bb1*vz)+(alpha1**2*356*10**11)*x**(-1/2)*Ba1 \\\n",
        "          +(alpha1**2)*(364058638*10**31)*x**(-3/2)*yR**2*va1 \\\n",
        "          +(alpha1*470369037*10**5)*x**(-1/2)*yR*Ba1-Ba1/x\n",
        "    \n",
        "    dBa2 = (alpha2*356*10**13)*x**(-1/2)*(vb2*Bz-Bb2*vz)+(alpha2**2*356*10**11)*x**(-1/2)*Ba2 \\\n",
        "          +(alpha2**2)*(364058638*10**31)*x**(-3/2)*yR**2*va2 \\\n",
        "          +(alpha2*470369037*10**5)*x**(-1/2)*yR*Ba2-Ba2/x\n",
        "    \n",
        "    dBa3 = (alpha3*356*10**13)*x**(-1/2)*(vb3*Bz-Bb3*vz)+(alpha3**2*356*10**11)*x**(-1/2)*Ba3 \\\n",
        "          +(alpha3**2)*(364058638*10**31)*x**(-3/2)*yR**2*va3 \\\n",
        "          +(alpha3*470369037*10**5)*x**(-1/2)*yR*Ba3-Ba3/x\n",
        "\n",
        "    dBb1 = (alpha1*356*10**13)*x**(-1/2)*(vz*Ba1-Bz*va1)+(alpha1**2*356*10**11)*x**(-1/2)*Bb1 \\\n",
        "          +(alpha1**2)*(364058638*10**31)*x**(-3/2)*yR**2*vb1 \\\n",
        "          +(alpha1*470369037*10**5)*x**(-1/2)*yR*Bb1-Bb1/x\n",
        "\n",
        "    dBb2 = (alpha2*356*10**13)*x**(-1/2)*(vz*Ba2-Bz*va2)+(alpha2**2*356*10**11)*x**(-1/2)*Bb2 \\\n",
        "          +(alpha2**2)*(364058638*10**31)*x**(-3/2)*yR**2*vb2 \\\n",
        "          +(alpha2*470369037*10**5)*x**(-1/2)*yR*Bb2-Bb2/x\n",
        "    \n",
        "    dBb3 = (alpha3*356*10**13)*x**(-1/2)*(vz*Ba3-Bz*va3)+(alpha3**2*356*10**11)*x**(-1/2)*Bb3 \\\n",
        "          +(alpha3**2)*(364058638*10**31)*x**(-3/2)*yR**2*vb3 \\\n",
        "          +(alpha3*470369037*10**5)*x**(-1/2)*yR*Bb3-Bb3/x\n",
        "\n",
        "    dvz = 0\n",
        "\n",
        "    dva1 = (alpha1*76066594*10**-32)*x**(3/2)*Bb1*Bz \\\n",
        "          -(alpha1**2*1424*10**15)*x**(-1/2)*va1\n",
        "\n",
        "    dva2 = (alpha2*76066594*10**-32)*x**(3/2)*Bb2*Bz \\\n",
        "          -(alpha2**2*1424*10**15)*x**(-1/2)*va2\n",
        "\n",
        "    dva3 = (alpha3*76066594*10**-32)*x**(3/2)*Bb3*Bz \\\n",
        "          -(alpha3**2*1424*10**15)*x**(-1/2)*va3\n",
        "\n",
        "    dvb1 =-(alpha1*76066594*10**-32)*x**(3/2)*Ba1*Bz \\\n",
        "          -(alpha1**2*1424*10**15)*x**(-1/2)*vb1\n",
        "\n",
        "    dvb2 =-(alpha2*76066594*10**-32)*x**(3/2)*Ba2*Bz \\\n",
        "          -(alpha2**2*1424*10**15)*x**(-1/2)*vb2\n",
        "\n",
        "    dvb3 =-(alpha3*76066594*10**-32)*x**(3/2)*Ba3*Bz \\\n",
        "          -(alpha3**2*1424*10**15)*x**(-1/2)*vb3    \n",
        "\n",
        "    return np.array([dBz,dBa1,dBa2,dBa3,dBb1,dBb2,dBb3,dyR,dvz,dva1,dva2,dva3,dvb1,dvb2,dvb3])\n",
        "\n",
        "Bz0,Ba10,Ba20,Ba30,Bb10,Bb20,Bb30,yR0,vz0,va10,va20,va30,vb10,vb20,vb30=10**19,0,0,0,0,0,0,0,0,1e-2,0,0,1e-2,0,0\n",
        "S20=[Bz0,Ba10,Ba20,Ba30,Bb10,Bb20,Bb30,yR0,vz0,va10,va20,va30,vb10,vb20,vb30]\n",
        "\n",
        "s= inte.solve_ivp(fun=S2,t_span=(1e-4,1),y0=S20,method='LSODA',rtol=5e-13,atol=1e-40) #t haman  hast x=t/t_ew\n",
        "\n",
        "Bz,Ba1,Ba2,Ba3,Bb1,Bb2,Bb3,yR,vz,va1,va2,va3,vb1,vb2,vb3=s.y\n",
        "x=s.t\n",
        "\n",
        "By=(Ba1**2+Ba2**2+Ba3**2+Bb1**2+Bb2**2+Bb3**2+Bz**2)**(1/2)\n",
        "\n",
        "nR = 3.55929 * 1e-7 * yR\n",
        "\n",
        "s"
      ]
    },
    {
      "cell_type": "code",
      "source": [
        "import matplotlib.pyplot as plt\n",
        "\n",
        "def plot(x,y,title):\n",
        "  fig, ax1 = plt.subplots(figsize=(10,5))\n",
        "  ax1.plot(x,y)\n",
        "  ax1.grid(True)\n",
        "  plt.yscale('log')\n",
        "  #plt.xscale('log')\n",
        "  plt.xlabel('x')\n",
        "  plt.ylabel(title)\n",
        "  plt.title('Diagram of ' + title + ' per $x = t/t_{ew}$')\n",
        "\n",
        "  left, bottom, width, height = [0.5, 0.6, 0.2, 0.2]\n",
        "  ax2 = fig.add_axes([left, bottom, width, height])\n",
        "  ax2.plot(x[50:200],y[50:200])\n",
        "  plt.xlabel('x')\n",
        "  plt.ylabel(title)\n",
        "  plt.yscale('log')\n",
        "  #plt.xscale('log')\n",
        "\n",
        "  plt.show()"
      ],
      "metadata": {
        "id": "mVcA1QZt0Acl"
      },
      "execution_count": 19,
      "outputs": []
    },
    {
      "cell_type": "code",
      "source": [
        "plot(x,yR,'yeR')"
      ],
      "metadata": {
        "id": "ZA7EDJHe0BUl",
        "outputId": "79517df9-62f7-4065-d357-af2692b1b4a1",
        "colab": {
          "base_uri": "https://localhost:8080/",
          "height": 352
        }
      },
      "execution_count": 20,
      "outputs": [
        {
          "output_type": "display_data",
          "data": {
            "text/plain": [
              "<Figure size 720x360 with 2 Axes>"
            ],
            "image/png": "[encoded data removed]"
          },
          "metadata": {
            "needs_background": "light"
          }
        }
      ]
    }
  ]
}