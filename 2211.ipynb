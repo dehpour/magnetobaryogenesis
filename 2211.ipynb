{
  "nbformat": 4,
  "nbformat_minor": 0,
  "metadata": {
    "colab": {
      "provenance": [],
      "collapsed_sections": [],
      "authorship_tag": "ABX9TyNWUMyQ5VyP3cKdDHXeXicS",
      "include_colab_link": true
    },
    "kernelspec": {
      "name": "python3",
      "display_name": "Python 3"
    },
    "language_info": {
      "name": "python"
    }
  },
  "cells": [
    {
      "cell_type": "markdown",
      "metadata": {
        "id": "view-in-github",
        "colab_type": "text"
      },
      "source": [
        "<a href=\"https://colab.research.google.com/github/dehpour/magnetobaryogenesis/blob/main/2211.ipynb\" target=\"_parent\"><img src=\"https://colab.research.google.com/assets/colab-badge.svg\" alt=\"Open In Colab\"/></a>"
      ]
    },
    {
      "cell_type": "code",
      "execution_count": 1,
      "metadata": {
        "id": "h50g9G26YKi5"
      },
      "outputs": [],
      "source": [
        "from scipy.integrate import solve_ivp\n",
        "import matplotlib.pyplot as plt\n",
        "import numpy as np"
      ]
    },
    {
      "cell_type": "code",
      "source": [
        "def fun(x, y):\n",
        "    \n",
        "    Ba1, Ba2, Ba3, Bb1, Bb2, Bb3, Bz, Va1, Va2, Va3, Vb1, Vb2, Vb3, Vz, Eta = y\n",
        "    \n",
        "    dBa1 = (alpha1*356*1e13*(x**-0.5)*(Vb1*Bz - Bb1*Vz) - (alpha1**2)*356*1e11*(x**-0.5)*Ba1 + \n",
        "            (alpha1**2)*3.64058638*1e39*(x**-1.5)*(Eta**2)*Va1 + \n",
        "            alpha1*4.70369037*1e13*(x**-0.5)*Eta*Ba1 - Ba1/x)\n",
        "    \n",
        "    dBa2 = (alpha2*356*1e13*(x**-0.5)*(Vb2*Bz - Bb2*Vz) - (alpha2**2)*356*1e11*(x**-0.5)*Ba2 + \n",
        "            (alpha2**2)*3.64058638*1e39*(x**-1.5)*(Eta**2)*Va2 + \n",
        "            alpha2*4.70369037*1e13*(x**-0.5)*Eta*Ba2 - Ba2/x)\n",
        "    dBa3 = (alpha3*356*1e13*(x**-0.5)*(Vb3*Bz - Bb3*Vz) - (alpha3**2)*356*1e11*(x**-0.5)*Ba3 + \n",
        "            (alpha3**2)*3.64058638*1e39*(x**-1.5)*(Eta**2)*Va3 + \n",
        "            alpha3*4.70369037*1e13*(x**-0.5)*Eta*Ba3 - Ba3/x)\n",
        "    \n",
        "    dBb1 = (alpha1*356*1e13*(x**-0.5)*(Vz*Ba1 - Bz*Va1) - (alpha1**2)*356*1e11*(x**-0.5)*Bb1 + \n",
        "            (alpha1**2)*3.64058638*1e39*(x**-1.5)*(Eta**2)*Vb1 + \n",
        "            alpha1*4.70369037*1e13*(x**-0.5)*Eta*Bb1 - Bb1/x)\n",
        "    dBb2 = (alpha2*356*1e13*(x**-0.5)*(Vz*Ba2 - Bz*Va2) - (alpha2**2)*356*1e11*(x**-0.5)*Bb2 + \n",
        "            (alpha2**2)*3.64058638*1e39*(x**-1.5)*(Eta**2)*Vb2 + \n",
        "            alpha2*4.70369037*1e13*(x**-0.5)*Eta*Bb2 - Bb2/x)\n",
        "    dBb3 = (alpha3*356*1e13*(x**-0.5)*(Vz*Ba3 - Bz*Va3) - (alpha3**2)*356*1e11*(x**-0.5)*Bb3 + \n",
        "            (alpha3**2)*3.64058638*1e39*(x**-1.5)*(Eta**2)*Vb3 + \n",
        "            alpha3*4.70369037*1e13*(x**-0.5)*Eta*Bb3 - Bb3/x)\n",
        "    \n",
        "    dBz = -Bz/x\n",
        "    \n",
        "    dVa1 = alpha1*30.4*1e-35*(x**1.5)*Bb1*Bz - (alpha1**2)*71.2*1e17*(x**-0.5)*Va1\n",
        "    dVa2 = alpha2*30.4*1e-35*(x**1.5)*Bb2*Bz - (alpha2**2)*71.2*1e17*(x**-0.5)*Va2\n",
        "    dVa3 = alpha3*30.4*1e-35*(x**1.5)*Bb3*Bz - (alpha3**2)*71.2*1e17*(x**-0.5)*Va3\n",
        "    \n",
        "    dVb1 = -alpha1*30.4*1e-35*(x**1.5)*Ba1*Bz - (alpha1**2)*71.2*1e17*(x**-0.5)*Vb1\n",
        "    dVb2 = -alpha2*30.4*1e-35*(x**1.5)*Ba2*Bz - (alpha2**2)*71.2*1e17*(x**-0.5)*Vb2\n",
        "    dVb3 = -alpha3*30.4*1e-35*(x**1.5)*Ba3*Bz - (alpha3**2)*71.2*1e17*(x**-0.5)*Vb3\n",
        "    \n",
        "    dVz = 0\n",
        "    \n",
        "    dEta = (-1.28*1e-38*(x**1.5)*Eta*(Ba1**2+Ba2**2+Ba3**2+Bb1**2+Bb2**2+Bb3**2+Bz**2) + \n",
        "           alpha1*9.68538584*1e-39*(x**1.5)*(Ba1**2+Bb1**2) + \n",
        "           alpha2*9.68538584*1e-39*(x**1.5)*(Ba2**2+Bb2**2) + \n",
        "           alpha3*9.68538584*1e-39*(x**1.5)*(Ba3**2+Bb3**2) -\n",
        "           alpha1*9.91*1e-13*(x**0.5)*(Eta**2)*(Va1*Ba1 + Vb1*Bb1) - \n",
        "           alpha2*9.91*1e-13*(x**0.5)*(Eta**2)*(Va2*Ba2 + Vb2*Bb2) - \n",
        "           alpha3*9.91*1e-13*(x**0.5)*(Eta**2)*(Va3*Ba3 + Vb3*Bb3) - \n",
        "           179.1*((1-x)/(x**0.5))*Eta)\n",
        "    \n",
        "    return dBa1, dBa2, dBa3, dBb1, dBb2, dBb3, dBz, dVa1, dVa2, dVa3, dVb1, dVb2, dVb3, dVz, dEta\n",
        "\n",
        "alpha1 = 1e-7\n",
        "alpha2 = 5e-7\n",
        "alpha3 = 1e-6\n",
        "\n",
        "y0 = [0, 0, 0, 0, 0, 0, 1e19, 1e-2, 1e-2, 1e-2, 1e-2, 1e-2, 1e-2, 0, 0]\n",
        "\n",
        "x_span = [1e-4, 1]\n",
        "\n",
        "sol = solve_ivp(fun=fun, t_span=x_span, y0=y0, method='LSODA',rtol=5e-10,atol=1e-40)\n",
        "\n",
        "sol"
      ],
      "metadata": {
        "id": "mVcA1QZt0Acl",
        "outputId": "562ba886-a575-44a0-b89c-92b0a97c3695",
        "colab": {
          "base_uri": "https://localhost:8080/"
        }
      },
      "execution_count": 2,
      "outputs": [
        {
          "output_type": "execute_result",
          "data": {
            "text/plain": [
              "  message: 'The solver successfully reached the end of the integration interval.'\n",
              "     nfev: 18966\n",
              "     njev: 397\n",
              "      nlu: 397\n",
              "      sol: None\n",
              "   status: 0\n",
              "  success: True\n",
              "        t: array([1.00000000e-04, 1.00000000e-04, 1.00000000e-04, ...,\n",
              "       9.98592159e-01, 9.99459146e-01, 1.00000000e+00])\n",
              " t_events: None\n",
              "        y: array([[ 0.00000000e+000,  4.47213595e-037,  8.94427191e-037, ...,\n",
              "         2.47557590e+016,  2.47266477e+016,  2.47085157e+016],\n",
              "       [ 0.00000000e+000,  2.23606798e-036,  4.47213595e-036, ...,\n",
              "         2.25382701e+008,  2.23455453e+008,  2.22261992e+008],\n",
              "       [ 0.00000000e+000,  4.47213595e-036,  8.94427191e-036, ...,\n",
              "         1.28472378e-015,  1.24457753e-015,  1.22017969e-015],\n",
              "       ...,\n",
              "       [ 1.00000000e-002,  1.00000000e-002,  1.00000000e-002, ...,\n",
              "        -5.47764243e-047, -5.31107904e-047, -5.20978207e-047],\n",
              "       [ 0.00000000e+000,  0.00000000e+000,  0.00000000e+000, ...,\n",
              "         0.00000000e+000,  0.00000000e+000,  0.00000000e+000],\n",
              "       [ 0.00000000e+000,  5.47999684e-185,  2.73999842e-184, ...,\n",
              "         1.15224666e-013,  1.16233674e-013,  1.16870449e-013]])\n",
              " y_events: None"
            ]
          },
          "metadata": {},
          "execution_count": 2
        }
      ]
    },
    {
      "cell_type": "code",
      "source": [
        "len(sol.t)"
      ],
      "metadata": {
        "id": "ZA7EDJHe0BUl",
        "outputId": "970c7d7c-c561-4423-a307-2f4ed3d1e725",
        "colab": {
          "base_uri": "https://localhost:8080/"
        }
      },
      "execution_count": 3,
      "outputs": [
        {
          "output_type": "execute_result",
          "data": {
            "text/plain": [
              "7834"
            ]
          },
          "metadata": {},
          "execution_count": 3
        }
      ]
    },
    {
      "cell_type": "code",
      "source": [
        "plt.plot(sol.t, sol.y[0],label='$B_{a_1}$')\n",
        "plt.plot(sol.t, abs(sol.y[3]),label='Absolute value of $B_{b_1}$')\n",
        "plt.legend()\n",
        "plt.xlabel('x')\n",
        "plt.xscale('log')\n",
        "plt.yscale('log')\n",
        "plt.show()"
      ],
      "metadata": {
        "id": "an0TMiay_M1q",
        "outputId": "bdceab9a-8ea2-4c7a-dceb-b59b748f16ff",
        "colab": {
          "base_uri": "https://localhost:8080/",
          "height": 283
        }
      },
      "execution_count": 4,
      "outputs": [
        {
          "output_type": "display_data",
          "data": {
            "text/plain": [
              "<Figure size 432x288 with 1 Axes>"
            ],
            "image/png": "[encoded data removed]"
          },
          "metadata": {
            "needs_background": "light"
          }
        }
      ]
    },
    {
      "cell_type": "code",
      "source": [
        "plt.plot(sol.t[150:], sol.y[14][150:],label='$\\eta$')\n",
        "plt.legend()\n",
        "plt.xlabel('x')\n",
        "plt.xscale('log')\n",
        "plt.yscale('log')\n",
        "plt.show()"
      ],
      "metadata": {
        "id": "Ao8ngGi0_OaA",
        "outputId": "0c5821cd-1c31-45df-a553-5a6c042988c6",
        "colab": {
          "base_uri": "https://localhost:8080/",
          "height": 283
        }
      },
      "execution_count": 5,
      "outputs": [
        {
          "output_type": "display_data",
          "data": {
            "text/plain": [
              "<Figure size 432x288 with 1 Axes>"
            ],
            "image/png": "[encoded data removed]"
          },
          "metadata": {
            "needs_background": "light"
          }
        }
      ]
    }
  ]
}